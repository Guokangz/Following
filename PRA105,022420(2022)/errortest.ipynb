{
 "cells": [
  {
   "cell_type": "code",
   "execution_count": 1,
   "metadata": {},
   "outputs": [
    {
     "name": "stdout",
     "output_type": "stream",
     "text": [
      "Fidelity of the final state with the target Bell state: 0.9306470111292757\n"
     ]
    },
    {
     "data": {
      "text/plain": [
       "<Figure size 1000x600 with 0 Axes>"
      ]
     },
     "metadata": {},
     "output_type": "display_data"
    }
   ],
   "source": [
    "from qutip import *\n",
    "import numpy as np\n",
    "import matplotlib.pyplot as plt\n",
    "\n",
    "def ncoeff(t, delta,omega_R):\n",
    "\n",
    "    return omega_R*np.exp(-1j * delta * t)\n",
    "\n",
    "def pcoeff(t, delta,omega_R):\n",
    "    return omega_R*np.exp(1j * delta * t)\n",
    "\n",
    "delta = np.pi*1e6\n",
    "\n",
    "omega_R = np.pi*1e6\n",
    "\n",
    "\n",
    "\n",
    "a = tensor(qeye(2),qeye(2),destroy(2))\n",
    "args={'delta': delta,'omega_R':omega_R}\n",
    "\n",
    "# hamiltonian\n",
    "H_pa =  a.dag()\n",
    "H_na =  a\n",
    "\n",
    "H = [[tensor(qeye(2),sigmaz(),qeye(2)) * a, ncoeff],\n",
    "     [tensor(sigmaz(),qeye(2),qeye(2)) * a.dag(), pcoeff],\n",
    "     [tensor(qeye(2),sigmaz(),qeye(2)) * a.dag(), pcoeff],\n",
    "     [tensor(sigmaz(),qeye(2),qeye(2)) * a, ncoeff]]\n",
    "\n",
    "args={'delta': delta,'omega_R':omega_R}\n",
    "# initial state\n",
    "psi0 = tensor(bell_state(),basis(2,0))\n",
    "tlist = np.linspace(0,2e-6,1000)\n",
    "e_ops = [tensor(sigmaz(), sigmaz(),qeye(2))]\n",
    "# 定义目标Bell态投影算符（扩展到三子系统）\n",
    "\n",
    "bell_target =tensor(bell_state(),basis(2,0))\n",
    "bell_projector = bell_target * bell_target.dag()\n",
    "\n",
    "# 观测算符列表：Bell态保真度 + 各子系统期望值\n",
    "e_ops = {\n",
    "\n",
    "}\n",
    "result = mesolve(H, psi0, tlist, c_ops=[], e_ops=e_ops, args=args)\n",
    "plt.figure(figsize=(10, 6))\n",
    "\n",
    "\n",
    "\n",
    "final_state = result.states[-1]  # Get the last state from the result\n",
    "fidelity_value = fidelity(final_state, bell_target)  # Calculate fidelity\n",
    "print(\"Fidelity of the final state with the target Bell state:\", fidelity_value)\n",
    "\n"
   ]
  },
  {
   "cell_type": "code",
   "execution_count": 2,
   "metadata": {},
   "outputs": [
    {
     "data": {
      "text/plain": [
       "0.9306470111292757"
      ]
     },
     "execution_count": 2,
     "metadata": {},
     "output_type": "execute_result"
    }
   ],
   "source": [
    "fidelity_value"
   ]
  },
  {
   "cell_type": "code",
   "execution_count": null,
   "metadata": {},
   "outputs": [
    {
     "data": {
      "image/png": "[encoded data removed]",
      "text/plain": [
       "<Figure size 640x480 with 1 Axes>"
      ]
     },
     "metadata": {},
     "output_type": "display_data"
    }
   ],
   "source": [
    "\n"
   ]
  },
  {
   "cell_type": "code",
   "execution_count": 356,
   "metadata": {},
   "outputs": [
    {
     "data": {
      "text/latex": [
       "Quantum object: dims=[[8], [8]], shape=(8, 8), type='oper', dtype=Dense, isherm=True$$\\left(\\begin{array}{cc}1 & 0 & 0 & 0 & 0 & 0 & 0 & 0\\\\0 & 0 & 0 & 0 & 0 & 0 & 0 & 0\\\\0 & 0 & 0 & 0 & 0 & 0 & 0 & 0\\\\0 & 0 & 0 & 0 & 0 & 0 & 0 & 0\\\\0 & 0 & 0 & 0 & 0 & 0 & 0 & 0\\\\0 & 0 & 0 & 0 & 0 & 0 & 0 & 0\\\\0 & 0 & 0 & 0 & 0 & 0 & 0 & 0\\\\0 & 0 & 0 & 0 & 0 & 0 & 0 & 0\\end{array}\\right)$$"
      ],
      "text/plain": [
       "Quantum object: dims=[[8], [8]], shape=(8, 8), type='oper', dtype=Dense, isherm=True\n",
       "Qobj data =\n",
       "[[1. 0. 0. 0. 0. 0. 0. 0.]\n",
       " [0. 0. 0. 0. 0. 0. 0. 0.]\n",
       " [0. 0. 0. 0. 0. 0. 0. 0.]\n",
       " [0. 0. 0. 0. 0. 0. 0. 0.]\n",
       " [0. 0. 0. 0. 0. 0. 0. 0.]\n",
       " [0. 0. 0. 0. 0. 0. 0. 0.]\n",
       " [0. 0. 0. 0. 0. 0. 0. 0.]\n",
       " [0. 0. 0. 0. 0. 0. 0. 0.]]"
      ]
     },
     "execution_count": 356,
     "metadata": {},
     "output_type": "execute_result"
    }
   ],
   "source": [
    "bell_target = basis(8,0),\n",
    "bell_projector =  basis(8,0) * basis(8,0).dag()\n",
    "bell_projector\n"
   ]
  }
 ],
 "metadata": {
  "kernelspec": {
   "display_name": "base",
   "language": "python",
   "name": "python3"
  },
  "language_info": {
   "codemirror_mode": {
    "name": "ipython",
    "version": 3
   },
   "file_extension": ".py",
   "mimetype": "text/x-python",
   "name": "python",
   "nbconvert_exporter": "python",
   "pygments_lexer": "ipython3",
   "version": "3.11.5"
  }
 },
 "nbformat": 4,
 "nbformat_minor": 2
}
