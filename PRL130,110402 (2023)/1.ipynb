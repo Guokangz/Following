{
 "cells": [
  {
   "cell_type": "code",
   "execution_count": 13,
   "metadata": {},
   "outputs": [
    {
     "name": "stdout",
     "output_type": "stream",
     "text": [
      "(-1.5-0.8660254037844386j)\n",
      "(-1.5+0.8660254037844386j)\n"
     ]
    }
   ],
   "source": [
    "\n",
    "import numpy as np\n",
    "import cmath\n",
    "from scipy.linalg import eigh\n",
    "\n",
    "r_eff =2\n",
    "omiga =1\n",
    "S1=0.25*(-3*r_eff-cmath.sqrt(r_eff**2-16*omiga**2))\n",
    "S2=0.25*(-3*r_eff+cmath.sqrt(r_eff**2-16*omiga**2))\n",
    "print(S1)\n",
    "print(S2)"
   ]
  }
 ],
 "metadata": {
  "kernelspec": {
   "display_name": "qutip",
   "language": "python",
   "name": "python3"
  },
  "language_info": {
   "codemirror_mode": {
    "name": "ipython",
    "version": 3
   },
   "file_extension": ".py",
   "mimetype": "text/x-python",
   "name": "python",
   "nbconvert_exporter": "python",
   "pygments_lexer": "ipython3",
   "version": "3.11.4"
  },
  "orig_nbformat": 4
 },
 "nbformat": 4,
 "nbformat_minor": 2
}
