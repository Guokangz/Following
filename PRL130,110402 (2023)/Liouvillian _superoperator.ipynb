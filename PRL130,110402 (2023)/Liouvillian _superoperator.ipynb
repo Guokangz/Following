{
 "cells": [
  {
   "cell_type": "code",
   "execution_count": 6,
   "metadata": {},
   "outputs": [
    {
     "name": "stdout",
     "output_type": "stream",
     "text": [
      "Eigenvalue 1: (-0.354877925176426*delta**2 - 0.177438962588213*delta*r_eff + 0.354877925176426*omiga**2 - 0.0295731604313688*r_eff**2 - (0.833333333333333*r_eff + 0.939290132424039*(-0.603351955307263*delta**2*r_eff - 0.301675977653631*delta*r_eff**2 + 0.452513966480447*omiga**2*r_eff + r_eff**3 - 0.502793296089385*r_eff*(-1.0*delta**2 - 0.5*delta*r_eff + 1.0*omiga**2 + 2.0*r_eff**2) + 0.232230275875157*sqrt(0.1875*r_eff**2*(delta**2 + 0.5*delta*r_eff + 0.5*omiga**2 + 0.055555555555556*r_eff**2)**2 - (delta**2 + 0.5*delta*r_eff - omiga**2 + 0.0833333333333333*r_eff**2)**3))**(1/3))*(-0.603351955307263*delta**2*r_eff - 0.301675977653631*delta*r_eff**2 + 0.452513966480447*omiga**2*r_eff + r_eff**3 - 0.502793296089385*r_eff*(-1.0*delta**2 - 0.5*delta*r_eff + 1.0*omiga**2 + 2.0*r_eff**2) + 0.232230275875157*sqrt(0.1875*r_eff**2*(delta**2 + 0.5*delta*r_eff + 0.5*omiga**2 + 0.055555555555556*r_eff**2)**2 - (delta**2 + 0.5*delta*r_eff - omiga**2 + 0.0833333333333333*r_eff**2)**3))**(1/3))/(-0.603351955307263*delta**2*r_eff - 0.301675977653631*delta*r_eff**2 + 0.452513966480447*omiga**2*r_eff + r_eff**3 - 0.502793296089385*r_eff*(-1.0*delta**2 - 0.5*delta*r_eff + 1.0*omiga**2 + 2.0*r_eff**2) + 0.232230275875157*sqrt(0.1875*r_eff**2*(delta**2 + 0.5*delta*r_eff + 0.5*omiga**2 + 0.055555555555556*r_eff**2)**2 - (delta**2 + 0.5*delta*r_eff - omiga**2 + 0.0833333333333333*r_eff**2)**3))**(1/3)\n",
      "Eigenvalue 2: (0.709755850352851*delta**2 + 0.354877925176426*delta*r_eff - 0.709755850352851*omiga**2 + 0.0591463208627376*r_eff**2 + (1 - sqrt(3)*I)*(-0.833333333333333*r_eff + 0.46964506621202*(1 - sqrt(3)*I)*(-0.603351955307263*delta**2*r_eff - 0.301675977653631*delta*r_eff**2 + 0.452513966480447*omiga**2*r_eff + r_eff**3 - 0.502793296089385*r_eff*(-1.0*delta**2 - 0.5*delta*r_eff + 1.0*omiga**2 + 2.0*r_eff**2) + 0.232230275875157*sqrt(0.1875*r_eff**2*(delta**2 + 0.5*delta*r_eff + 0.5*omiga**2 + 0.055555555555556*r_eff**2)**2 - (delta**2 + 0.5*delta*r_eff - omiga**2 + 0.0833333333333333*r_eff**2)**3))**(1/3))*(-0.603351955307263*delta**2*r_eff - 0.301675977653631*delta*r_eff**2 + 0.452513966480447*omiga**2*r_eff + r_eff**3 - 0.502793296089385*r_eff*(-1.0*delta**2 - 0.5*delta*r_eff + 1.0*omiga**2 + 2.0*r_eff**2) + 0.232230275875157*sqrt(0.1875*r_eff**2*(delta**2 + 0.5*delta*r_eff + 0.5*omiga**2 + 0.055555555555556*r_eff**2)**2 - (delta**2 + 0.5*delta*r_eff - omiga**2 + 0.0833333333333333*r_eff**2)**3))**(1/3))/((1 - sqrt(3)*I)*(-0.603351955307263*delta**2*r_eff - 0.301675977653631*delta*r_eff**2 + 0.452513966480447*omiga**2*r_eff + r_eff**3 - 0.502793296089385*r_eff*(-1.0*delta**2 - 0.5*delta*r_eff + 1.0*omiga**2 + 2.0*r_eff**2) + 0.232230275875157*sqrt(0.1875*r_eff**2*(delta**2 + 0.5*delta*r_eff + 0.5*omiga**2 + 0.055555555555556*r_eff**2)**2 - (delta**2 + 0.5*delta*r_eff - omiga**2 + 0.0833333333333333*r_eff**2)**3))**(1/3))\n",
      "Eigenvalue 3: (0.709755850352851*delta**2 + 0.354877925176426*delta*r_eff - 0.709755850352851*omiga**2 + 0.0591463208627376*r_eff**2 + (1 + sqrt(3)*I)*(-0.833333333333333*r_eff + 0.46964506621202*(1 + sqrt(3)*I)*(-0.603351955307263*delta**2*r_eff - 0.301675977653631*delta*r_eff**2 + 0.452513966480447*omiga**2*r_eff + r_eff**3 - 0.502793296089385*r_eff*(-1.0*delta**2 - 0.5*delta*r_eff + 1.0*omiga**2 + 2.0*r_eff**2) + 0.232230275875157*sqrt(0.1875*r_eff**2*(delta**2 + 0.5*delta*r_eff + 0.5*omiga**2 + 0.055555555555556*r_eff**2)**2 - (delta**2 + 0.5*delta*r_eff - omiga**2 + 0.0833333333333333*r_eff**2)**3))**(1/3))*(-0.603351955307263*delta**2*r_eff - 0.301675977653631*delta*r_eff**2 + 0.452513966480447*omiga**2*r_eff + r_eff**3 - 0.502793296089385*r_eff*(-1.0*delta**2 - 0.5*delta*r_eff + 1.0*omiga**2 + 2.0*r_eff**2) + 0.232230275875157*sqrt(0.1875*r_eff**2*(delta**2 + 0.5*delta*r_eff + 0.5*omiga**2 + 0.055555555555556*r_eff**2)**2 - (delta**2 + 0.5*delta*r_eff - omiga**2 + 0.0833333333333333*r_eff**2)**3))**(1/3))/((1 + sqrt(3)*I)*(-0.603351955307263*delta**2*r_eff - 0.301675977653631*delta*r_eff**2 + 0.452513966480447*omiga**2*r_eff + r_eff**3 - 0.502793296089385*r_eff*(-1.0*delta**2 - 0.5*delta*r_eff + 1.0*omiga**2 + 2.0*r_eff**2) + 0.232230275875157*sqrt(0.1875*r_eff**2*(delta**2 + 0.5*delta*r_eff + 0.5*omiga**2 + 0.055555555555556*r_eff**2)**2 - (delta**2 + 0.5*delta*r_eff - omiga**2 + 0.0833333333333333*r_eff**2)**3))**(1/3))\n",
      "Eigenvalue 4: 0\n"
     ]
    }
   ],
   "source": [
    "from sympy import symbols, Matrix,simplify\n",
    "import scipy as sc\n",
    "import numpy as np\n",
    "from scipy.linalg import eigh\n",
    "import numpy as np\n",
    "\n",
    "# 定义符号\n",
    "r_eff, omiga,delta= symbols('r_eff omiga delta')\n",
    "\n",
    "# 定义哈密顿量矩阵\n",
    "H1 = Matrix([[-r_eff, 1j*omiga/2, -1j*omiga/2, 0],\n",
    "            [1j*omiga/2, -(r_eff/2-delta), 0,-1j*omiga/2],\n",
    "            [-1j*omiga/2,0,  -(r_eff+delta), 1j*omiga/2],\n",
    "            [r_eff,-1j*omiga/2, 1j*omiga/2, 0 ]])\n",
    "\n",
    "H2 = Matrix([[-r_eff, 1j*omiga/2, -1j*omiga/2, 0],\n",
    "            [1j*omiga/2, -r_eff/2, 0,-1j*omiga/2],\n",
    "            [-1j*omiga/2,0,  -r_eff/2, 1j*omiga/2],\n",
    "            [r_eff,-1j*omiga/2, 1j*omiga/2, 0 ]])\n",
    "# 求解本征值和本征向量\n",
    "eigenvalues = H1.eigenvals()\n",
    " #对本征值进行简化\n",
    "simplified_eigenvalues = [eigenvalue.simplify() for eigenvalue in eigenvalues]\n",
    "\n",
    "\n",
    "for i in range(len(simplified_eigenvalues)):\n",
    "    eigenvalue = simplified_eigenvalues[i]\n",
    "    print(f\"Eigenvalue {i+1}: {eigenvalue}\")\n"
   ]
  },
  {
   "cell_type": "code",
   "execution_count": 17,
   "metadata": {},
   "outputs": [
    {
     "name": "stdout",
     "output_type": "stream",
     "text": [
      "nan\n"
     ]
    },
    {
     "name": "stderr",
     "output_type": "stream",
     "text": [
      "/tmp/ipykernel_82338/2768088891.py:3: RuntimeWarning: invalid value encountered in sqrt\n",
      "  S1=0.25*(-3*r_eff-np.sqrt(r_eff**2-16*omiga**2))\n",
      "/tmp/ipykernel_82338/2768088891.py:4: RuntimeWarning: invalid value encountered in sqrt\n",
      "  S2=0.25*(-3*r_eff+np.sqrt(r_eff**2-16*omiga**2))\n"
     ]
    }
   ],
   "source": [
    "r_eff =1\n",
    "omiga =1\n",
    "S1=0.25*(-3*r_eff-np.sqrt(r_eff**2-16*omiga**2))\n",
    "S2=0.25*(-3*r_eff+np.sqrt(r_eff**2-16*omiga**2))\n",
    "print(S2)"
   ]
  }
 ],
 "metadata": {
  "kernelspec": {
   "display_name": "qutip",
   "language": "python",
   "name": "python3"
  },
  "language_info": {
   "codemirror_mode": {
    "name": "ipython",
    "version": 3
   },
   "file_extension": ".py",
   "mimetype": "text/x-python",
   "name": "python",
   "nbconvert_exporter": "python",
   "pygments_lexer": "ipython3",
   "version": "3.10.8"
  },
  "orig_nbformat": 4
 },
 "nbformat": 4,
 "nbformat_minor": 2
}
