{
 "cells": [
  {
   "cell_type": "code",
   "execution_count": 61,
   "metadata": {},
   "outputs": [
    {
     "name": "stdout",
     "output_type": "stream",
     "text": [
      "E1: 1776.12827054543 + 2.65135136068295e-13*I\n",
      "E2: -1925.88596711506 + 2.7253199696986e-13*I\n"
     ]
    }
   ],
   "source": [
    "from sympy import symbols, Matrix\n",
    "import matplotlib.pyplot as plt\n",
    "import numpy as np\n",
    "import sympy as sp\n",
    "\n",
    "r_eff, omiga, delta = sp.symbols('r_eff omiga delta')\n",
    "\n",
    "H1 = sp.Matrix([[-r_eff, 1j*omiga/2, -1j*omiga/2, 0],\n",
    "                [1j*omiga/2, -(r_eff/2-delta), 0, -1j*omiga/2],\n",
    "                [-1j*omiga/2, 0, -(r_eff+delta), 1j*omiga/2],\n",
    "                [r_eff, -1j*omiga/2, 1j*omiga/2, 0]])\n",
    "\n",
    "\n",
    "eigenvalues_H1 = H1.eigenvals()\n",
    "simplified_eigenvalues_H1 = [eigenvalue.simplify() for eigenvalue in eigenvalues_H1]\n",
    "\n",
    "# 创建变量值字典\n",
    "variables = {r_eff: 100, delta:-300 * 2 * np.pi, omiga:29 * 2 * np.pi}\n",
    "\n",
    "# 替换符号值并计算本征值\n",
    "E1 = simplified_eigenvalues_H1[1].subs(variables)\n",
    "E2 = simplified_eigenvalues_H1[0].subs(variables)\n",
    "E1_numeric = E1.evalf()\n",
    "E2_numeric = E2.evalf()\n",
    "\n",
    "# 输出本征值\n",
    "print(\"E1:\", E1_numeric)\n",
    "print(\"E2:\", E2_numeric)"
   ]
  }
 ],
 "metadata": {
  "kernelspec": {
   "display_name": "qutip",
   "language": "python",
   "name": "python3"
  },
  "language_info": {
   "codemirror_mode": {
    "name": "ipython",
    "version": 3
   },
   "file_extension": ".py",
   "mimetype": "text/x-python",
   "name": "python",
   "nbconvert_exporter": "python",
   "pygments_lexer": "ipython3",
   "version": "3.10.8"
  },
  "orig_nbformat": 4
 },
 "nbformat": 4,
 "nbformat_minor": 2
}
